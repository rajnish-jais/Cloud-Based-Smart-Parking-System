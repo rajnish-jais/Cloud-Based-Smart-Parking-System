{
  "cells": [
    {
      "metadata": {
        "collapsed": true,
        "trusted": false
      },
      "cell_type": "code",
      "source": "from pyfirmata import Arduino, ArduinoMega\nfrom pyfirmata import util\nfrom wyliodrin import *\nfrom time import *\nfrom threading import Timer\n\nCount = None\nGasLimit = None\nLight0 = None\nLight1 = None\nLight2 = None\nGas = None\n\ndef setBoard(boardType, port):\n    if boardType == 'arduino':\n        board = Arduino(port)\n    else:\n        board = ArduinoMega(port)\n    return board\n\nboard=setBoard('arduino', '/dev/ttyACM0')\n\nreader = util.Iterator(board)\nreader.start()\n\npin_var = board.get_pin(\"a:0:i\")\npin_var2 = board.get_pin(\"a:1:i\")\npin_var3 = board.get_pin(\"a:2:i\")\npin_var4 = board.get_pin(\"a:3:i\")\npin_var5 = board.get_pin(\"d:2:o\")\n\nCount = 0\nGasLimit = 375\n\ndef loopCode():\n    global Light0, Light1, Light2, Gas, Count, GasLimit\n \tLight0 = round((pin_var.read() or 0) * 1023)\n \tLight1 = round((pin_var2.read() or 0) * 1023)\n \tLight2 = round((pin_var3.read() or 0) * 1023)\n    Gas = round((pin_var4.read() or 0) * 1023)\n    if Light0 >= 1000:\n        Count = 1\n        import urllib3\n        http = urllib3.PoolManager()\n        http.request('POST','http://onlinesmartparking.xyz/input.php',fields= {'light0': int(Light0), 'light1': int(Light1), 'light2': int(Light2),'gas':int(Gas),'Count':int(Count)});\n        sleep (10)\n        Count = 0\n    else:\n        import urllib3\n        http = urllib3.PoolManager()\n        http.request('POST','http://onlinesmartparking.xyz/input.php',fields= {'light0': int(Light0), 'light1': int(Light1), 'light2': int(Light2),'gas':int(Gas),'Count':int(Count)});\n    if Gas >= GasLimit:\n        pin_var5.write(1)\n    else:\n        pin_var5.write(0)\n        Timer(1, loopCode).start()\n\nloopCode()",
      "execution_count": null,
      "outputs": []
    }
  ],
  "metadata": {
    "kernelspec": {
      "name": "python36",
      "display_name": "Python 3.6",
      "language": "python"
    },
    "language_info": {
      "mimetype": "text/x-python",
      "nbconvert_exporter": "python",
      "name": "python",
      "pygments_lexer": "ipython3",
      "version": "3.6.6",
      "file_extension": ".py",
      "codemirror_mode": {
        "version": 3,
        "name": "ipython"
      }
    }
  },
  "nbformat": 4,
  "nbformat_minor": 2
}